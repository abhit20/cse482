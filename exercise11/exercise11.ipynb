{
 "cells": [
  {
   "cell_type": "markdown",
   "metadata": {},
   "source": [
    "# Exercise 11\n",
    "\n",
    "The purpose of this exercise is to help you get started applying collaborative filtering to an online dating application."
   ]
  },
  {
   "cell_type": "markdown",
   "metadata": {},
   "source": [
    "**1.** This is a subset of the original online dating dataset from http://www.occamslab.com/petricek/data/. \n",
    "\n",
    "**2.**\tInstall Python surprise on your machine. Use Python surprise to load the file into a DataFrame object named data. Display the first 5 rows of the ratings data.\n",
    "\n",
    "**Solution:**"
   ]
  },
  {
   "cell_type": "code",
   "execution_count": 1,
   "metadata": {},
   "outputs": [
    {
     "data": {
      "text/plain": [
       "[('1', '15', 10.0, None),\n",
       " ('1', '19', 8.0, None),\n",
       " ('1', '24', 8.0, None),\n",
       " ('1', '25', 5.0, None),\n",
       " ('1', '26', 6.0, None)]"
      ]
     },
     "execution_count": 1,
     "metadata": {},
     "output_type": "execute_result"
    }
   ],
   "source": [
    "from surprise import Dataset\n",
    "from surprise import Reader\n",
    "\n",
    "reader = Reader(line_format='user item rating', sep=',')\n",
    "data = Dataset.load_from_file('user_ratings1.data', reader=reader)\n",
    "data.raw_ratings[:5]"
   ]
  },
  {
   "cell_type": "markdown",
   "metadata": {},
   "source": [
    "**3.** Divide the data into 30% training and the remaining 70% for testing using the train_test_split() function (with random_state option set to 1). Use the non-negative matrix factorization approach to predict the ratings information. Set the number of latent factors to be 25 and number of epochs to be 200.\n",
    "\n",
    "**Solution:**"
   ]
  },
  {
   "cell_type": "code",
   "execution_count": 2,
   "metadata": {},
   "outputs": [],
   "source": [
    "from surprise import NMF\n",
    "from surprise.model_selection import train_test_split\n",
    "\n",
    "trainset, testset = train_test_split(data, test_size=0.3, random_state=1)\n",
    "\n",
    "algo = NMF(n_factors=25, n_epochs=200, random_state=1)\n",
    "algo.fit(trainset)\n",
    "pred = algo.test(testset)"
   ]
  },
  {
   "cell_type": "markdown",
   "metadata": {},
   "source": [
    "**4.** Apply the algorithm to predict the test set and calculate its performance in terms of both the RMSE and MAE values.\n",
    "\n",
    "**Solution:**"
   ]
  },
  {
   "cell_type": "code",
   "execution_count": 3,
   "metadata": {},
   "outputs": [
    {
     "name": "stdout",
     "output_type": "stream",
     "text": [
      "RMSE: 3.2255\n",
      "MAE:  2.7088\n"
     ]
    },
    {
     "data": {
      "text/plain": [
       "(3.2254962456009255, 2.7087997305467226)"
      ]
     },
     "execution_count": 3,
     "metadata": {},
     "output_type": "execute_result"
    }
   ],
   "source": [
    "from surprise import accuracy\n",
    "accuracy.rmse(pred), accuracy.mae(pred)"
   ]
  },
  {
   "cell_type": "markdown",
   "metadata": {},
   "source": [
    "**5.** Display the first 20 rows of the test set predictions. \n",
    "\n",
    "**Solution:**"
   ]
  },
  {
   "cell_type": "code",
   "execution_count": 4,
   "metadata": {},
   "outputs": [
    {
     "name": "stdout",
     "output_type": "stream",
     "text": [
      "user: 78    item: 938    r_ui = 9.00    est = 5.00    {'was_impossible': False}\n",
      "user: 189    item: 20    r_ui = 6.00    est = 5.00    {'was_impossible': False}\n",
      "user: 1198    item: 238    r_ui = 3.00    est = 2.86    {'was_impossible': False}\n",
      "user: 165    item: 741    r_ui = 10.00    est = 5.00    {'was_impossible': False}\n",
      "user: 903    item: 164    r_ui = 5.00    est = 3.94    {'was_impossible': False}\n",
      "user: 585    item: 668    r_ui = 6.00    est = 5.00    {'was_impossible': False}\n",
      "user: 16    item: 1082    r_ui = 1.00    est = 1.48    {'was_impossible': False}\n",
      "user: 843    item: 635    r_ui = 7.00    est = 5.00    {'was_impossible': False}\n",
      "user: 1040    item: 229    r_ui = 10.00    est = 5.00    {'was_impossible': False}\n",
      "user: 1738    item: 322    r_ui = 4.00    est = 5.00    {'was_impossible': False}\n",
      "user: 1068    item: 919    r_ui = 1.00    est = 3.93    {'was_impossible': False}\n",
      "user: 292    item: 729    r_ui = 10.00    est = 5.00    {'was_impossible': False}\n",
      "user: 838    item: 1108    r_ui = 4.00    est = 3.89    {'was_impossible': False}\n",
      "user: 1276    item: 1247    r_ui = 8.00    est = 5.00    {'was_impossible': False}\n",
      "user: 976    item: 776    r_ui = 9.00    est = 5.00    {'was_impossible': False}\n",
      "user: 246    item: 1309    r_ui = 4.00    est = 3.67    {'was_impossible': False}\n",
      "user: 1251    item: 72    r_ui = 5.00    est = 5.00    {'was_impossible': False}\n",
      "user: 1027    item: 926    r_ui = 1.00    est = 5.00    {'was_impossible': False}\n",
      "user: 484    item: 374    r_ui = 5.00    est = 3.80    {'was_impossible': False}\n",
      "user: 1483    item: 717    r_ui = 2.00    est = 4.19    {'was_impossible': False}\n"
     ]
    }
   ],
   "source": [
    "for i in range(20):\n",
    "    print('user: %s    item: %s    r_ui = %.2f    est = %.2f    %s' % (pred[i][0],pred[i][1],float(pred[i][2]),float(pred[i][3]),pred[i][4]))"
   ]
  }
 ],
 "metadata": {
  "kernelspec": {
   "display_name": "Python 3",
   "language": "python",
   "name": "python3"
  },
  "language_info": {
   "codemirror_mode": {
    "name": "ipython",
    "version": 3
   },
   "file_extension": ".py",
   "mimetype": "text/x-python",
   "name": "python",
   "nbconvert_exporter": "python",
   "pygments_lexer": "ipython3",
   "version": "3.7.6"
  }
 },
 "nbformat": 4,
 "nbformat_minor": 2
}
