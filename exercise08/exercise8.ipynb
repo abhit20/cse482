{
 "cells": [
  {
   "cell_type": "markdown",
   "metadata": {},
   "source": [
    "# Exercise 8\n",
    "\n",
    "The goal of this exercise is to help you get familiarize with some of the classification methods available in Python. You will also learn how to perform cross-validation to select the right hyperparameter to avoid model overfitting.\n",
    "\n",
    "**1.** In this exercise, you will apply a variety of classification methods to predict the forest cover type of various regions in Japan using remote sensing satellite data. The original data was obtained from the UCI Machine Learning Repository (https://archive.ics.uci.edu/ml/datasets/Forest+type+mapping). First, you need to download the dataset from the following link (https://archive.ics.uci.edu/ml/machine-learning-databases/00333/). Unzip the ForestTypes.zip file to obtain the training and testing datasets."
   ]
  },
  {
   "cell_type": "markdown",
   "metadata": {},
   "source": [
    "**2.** Load the training and testing datasets into separate pandas dataframes object named train and test, respectively. Count the number of rows in the training and test sets and display the first 5 data points in the training set.\n",
    "\n",
    "**Solution:**"
   ]
  },
  {
   "cell_type": "code",
   "execution_count": 1,
   "metadata": {},
   "outputs": [
    {
     "name": "stdout",
     "output_type": "stream",
     "text": [
      "Number of rows in training set = 198\n",
      "Number of rows in testing set = 325\n"
     ]
    },
    {
     "data": {
      "text/html": [
       "<div>\n",
       "<style scoped>\n",
       "    .dataframe tbody tr th:only-of-type {\n",
       "        vertical-align: middle;\n",
       "    }\n",
       "\n",
       "    .dataframe tbody tr th {\n",
       "        vertical-align: top;\n",
       "    }\n",
       "\n",
       "    .dataframe thead th {\n",
       "        text-align: right;\n",
       "    }\n",
       "</style>\n",
       "<table border=\"1\" class=\"dataframe\">\n",
       "  <thead>\n",
       "    <tr style=\"text-align: right;\">\n",
       "      <th></th>\n",
       "      <th>class</th>\n",
       "      <th>b1</th>\n",
       "      <th>b2</th>\n",
       "      <th>b3</th>\n",
       "      <th>b4</th>\n",
       "      <th>b5</th>\n",
       "      <th>b6</th>\n",
       "      <th>b7</th>\n",
       "      <th>b8</th>\n",
       "      <th>b9</th>\n",
       "      <th>...</th>\n",
       "      <th>pred_minus_obs_H_b9</th>\n",
       "      <th>pred_minus_obs_S_b1</th>\n",
       "      <th>pred_minus_obs_S_b2</th>\n",
       "      <th>pred_minus_obs_S_b3</th>\n",
       "      <th>pred_minus_obs_S_b4</th>\n",
       "      <th>pred_minus_obs_S_b5</th>\n",
       "      <th>pred_minus_obs_S_b6</th>\n",
       "      <th>pred_minus_obs_S_b7</th>\n",
       "      <th>pred_minus_obs_S_b8</th>\n",
       "      <th>pred_minus_obs_S_b9</th>\n",
       "    </tr>\n",
       "  </thead>\n",
       "  <tbody>\n",
       "    <tr>\n",
       "      <th>0</th>\n",
       "      <td>d</td>\n",
       "      <td>39</td>\n",
       "      <td>36</td>\n",
       "      <td>57</td>\n",
       "      <td>91</td>\n",
       "      <td>59</td>\n",
       "      <td>101</td>\n",
       "      <td>93</td>\n",
       "      <td>27</td>\n",
       "      <td>60</td>\n",
       "      <td>...</td>\n",
       "      <td>-2.36</td>\n",
       "      <td>-18.41</td>\n",
       "      <td>-1.88</td>\n",
       "      <td>-6.43</td>\n",
       "      <td>-21.03</td>\n",
       "      <td>-1.60</td>\n",
       "      <td>-6.18</td>\n",
       "      <td>-22.50</td>\n",
       "      <td>-5.20</td>\n",
       "      <td>-7.86</td>\n",
       "    </tr>\n",
       "    <tr>\n",
       "      <th>1</th>\n",
       "      <td>h</td>\n",
       "      <td>84</td>\n",
       "      <td>30</td>\n",
       "      <td>57</td>\n",
       "      <td>112</td>\n",
       "      <td>51</td>\n",
       "      <td>98</td>\n",
       "      <td>92</td>\n",
       "      <td>26</td>\n",
       "      <td>62</td>\n",
       "      <td>...</td>\n",
       "      <td>-2.26</td>\n",
       "      <td>-16.27</td>\n",
       "      <td>-1.95</td>\n",
       "      <td>-6.25</td>\n",
       "      <td>-18.79</td>\n",
       "      <td>-1.99</td>\n",
       "      <td>-6.18</td>\n",
       "      <td>-23.41</td>\n",
       "      <td>-8.87</td>\n",
       "      <td>-10.83</td>\n",
       "    </tr>\n",
       "    <tr>\n",
       "      <th>2</th>\n",
       "      <td>s</td>\n",
       "      <td>53</td>\n",
       "      <td>25</td>\n",
       "      <td>49</td>\n",
       "      <td>99</td>\n",
       "      <td>51</td>\n",
       "      <td>93</td>\n",
       "      <td>84</td>\n",
       "      <td>26</td>\n",
       "      <td>58</td>\n",
       "      <td>...</td>\n",
       "      <td>-1.46</td>\n",
       "      <td>-15.92</td>\n",
       "      <td>-1.79</td>\n",
       "      <td>-4.64</td>\n",
       "      <td>-17.73</td>\n",
       "      <td>-0.48</td>\n",
       "      <td>-4.69</td>\n",
       "      <td>-19.97</td>\n",
       "      <td>-4.10</td>\n",
       "      <td>-7.07</td>\n",
       "    </tr>\n",
       "    <tr>\n",
       "      <th>3</th>\n",
       "      <td>s</td>\n",
       "      <td>59</td>\n",
       "      <td>26</td>\n",
       "      <td>49</td>\n",
       "      <td>103</td>\n",
       "      <td>47</td>\n",
       "      <td>92</td>\n",
       "      <td>82</td>\n",
       "      <td>25</td>\n",
       "      <td>56</td>\n",
       "      <td>...</td>\n",
       "      <td>2.68</td>\n",
       "      <td>-13.77</td>\n",
       "      <td>-2.53</td>\n",
       "      <td>-6.34</td>\n",
       "      <td>-22.03</td>\n",
       "      <td>-2.34</td>\n",
       "      <td>-6.60</td>\n",
       "      <td>-27.10</td>\n",
       "      <td>-7.99</td>\n",
       "      <td>-10.81</td>\n",
       "    </tr>\n",
       "    <tr>\n",
       "      <th>4</th>\n",
       "      <td>d</td>\n",
       "      <td>57</td>\n",
       "      <td>49</td>\n",
       "      <td>66</td>\n",
       "      <td>103</td>\n",
       "      <td>64</td>\n",
       "      <td>106</td>\n",
       "      <td>114</td>\n",
       "      <td>28</td>\n",
       "      <td>59</td>\n",
       "      <td>...</td>\n",
       "      <td>-2.94</td>\n",
       "      <td>-21.74</td>\n",
       "      <td>-1.64</td>\n",
       "      <td>-4.62</td>\n",
       "      <td>-23.74</td>\n",
       "      <td>-0.85</td>\n",
       "      <td>-5.50</td>\n",
       "      <td>-22.83</td>\n",
       "      <td>-2.74</td>\n",
       "      <td>-5.84</td>\n",
       "    </tr>\n",
       "  </tbody>\n",
       "</table>\n",
       "<p>5 rows × 28 columns</p>\n",
       "</div>"
      ],
      "text/plain": [
       "  class  b1  b2  b3   b4  b5   b6   b7  b8  b9  ...  pred_minus_obs_H_b9  \\\n",
       "0    d   39  36  57   91  59  101   93  27  60  ...                -2.36   \n",
       "1    h   84  30  57  112  51   98   92  26  62  ...                -2.26   \n",
       "2    s   53  25  49   99  51   93   84  26  58  ...                -1.46   \n",
       "3    s   59  26  49  103  47   92   82  25  56  ...                 2.68   \n",
       "4    d   57  49  66  103  64  106  114  28  59  ...                -2.94   \n",
       "\n",
       "   pred_minus_obs_S_b1  pred_minus_obs_S_b2  pred_minus_obs_S_b3  \\\n",
       "0               -18.41                -1.88                -6.43   \n",
       "1               -16.27                -1.95                -6.25   \n",
       "2               -15.92                -1.79                -4.64   \n",
       "3               -13.77                -2.53                -6.34   \n",
       "4               -21.74                -1.64                -4.62   \n",
       "\n",
       "   pred_minus_obs_S_b4  pred_minus_obs_S_b5  pred_minus_obs_S_b6  \\\n",
       "0               -21.03                -1.60                -6.18   \n",
       "1               -18.79                -1.99                -6.18   \n",
       "2               -17.73                -0.48                -4.69   \n",
       "3               -22.03                -2.34                -6.60   \n",
       "4               -23.74                -0.85                -5.50   \n",
       "\n",
       "   pred_minus_obs_S_b7  pred_minus_obs_S_b8  pred_minus_obs_S_b9  \n",
       "0               -22.50                -5.20                -7.86  \n",
       "1               -23.41                -8.87               -10.83  \n",
       "2               -19.97                -4.10                -7.07  \n",
       "3               -27.10                -7.99               -10.81  \n",
       "4               -22.83                -2.74                -5.84  \n",
       "\n",
       "[5 rows x 28 columns]"
      ]
     },
     "execution_count": 1,
     "metadata": {},
     "output_type": "execute_result"
    }
   ],
   "source": [
    "import pandas as pd\n",
    "\n",
    "train = pd.read_csv('training.csv')\n",
    "print('Number of rows in training set =', len(train.index))\n",
    "test = pd.read_csv('testing.csv')\n",
    "print('Number of rows in testing set =', len(test.index))\n",
    "train.head()"
   ]
  },
  {
   "cell_type": "markdown",
   "metadata": {},
   "source": [
    "**3.** Compute the probability distribution for each class in the training and test sets. Note that there are 4 classes of forest types in the dataset: 's' ('Sugi' forest), 'h' ('Hinoki' forest), 'd' ('Mixed deciduous' forest), and 'o' ('Other' or non-forest land). "
   ]
  },
  {
   "cell_type": "code",
   "execution_count": 2,
   "metadata": {},
   "outputs": [
    {
     "name": "stdout",
     "output_type": "stream",
     "text": [
      "Class distribution for training data:\n",
      "s     0.297980\n",
      "d     0.272727\n",
      "h     0.242424\n",
      "o     0.186869\n",
      "Name: class, dtype: float64\n",
      "\n",
      "Class distribution for test data:\n",
      "s     0.418462\n",
      "d     0.323077\n",
      "o     0.141538\n",
      "h     0.116923\n",
      "Name: class, dtype: float64\n"
     ]
    }
   ],
   "source": [
    "print('Class distribution for training data:') \n",
    "print(train['class'].value_counts()/train['class'].count())\n",
    "\n",
    "print('\\nClass distribution for test data:') \n",
    "print(test['class'].value_counts()/test['class'].count())"
   ]
  },
  {
   "cell_type": "markdown",
   "metadata": {},
   "source": [
    "**4.** Extract the class (target) attribute Y and predictor attributes X from the training and test dataframes. Denote the extracted attributes as X_train, X_test, Y_train, and Y_test, respectively.\n",
    "\n",
    "**Solution:**"
   ]
  },
  {
   "cell_type": "code",
   "execution_count": 3,
   "metadata": {},
   "outputs": [],
   "source": [
    "from sklearn.model_selection import train_test_split\n",
    "\n",
    "Y_train = train['class'].to_numpy()\n",
    "Y_test = test['class'].to_numpy()\n",
    "X_train = train.drop('class',1).to_numpy()\n",
    "X_test = test.drop('class',1).to_numpy()"
   ]
  },
  {
   "cell_type": "markdown",
   "metadata": {},
   "source": [
    "**5.** Train a decision tree classifier using the default hyperparameter setting provided by sklearn. Apply the decision tree to the test data ad compute the test accuracy."
   ]
  },
  {
   "cell_type": "code",
   "execution_count": 4,
   "metadata": {},
   "outputs": [
    {
     "name": "stdout",
     "output_type": "stream",
     "text": [
      "Test accuracy = 0.76\n"
     ]
    }
   ],
   "source": [
    "from sklearn import tree\n",
    "from sklearn.metrics import accuracy_score\n",
    "\n",
    "clf = tree.DecisionTreeClassifier(max_depth = None)\n",
    "clf = clf.fit(X_train, Y_train)\n",
    "Y_pred = clf.predict(X_test)\n",
    "\n",
    "print('Test accuracy =', accuracy_score(Y_test, Y_pred))"
   ]
  },
  {
   "cell_type": "markdown",
   "metadata": {},
   "source": [
    "**6.** One of the important hyperparameters for building decision trees is max_depth. This hyperparameter determines the maximum depth of the tree you can construct. This is an important hyperparameter because it affects model overfitting and generalization performance of the resulting model. Its default value is max_depth = None, which means the tree can be constructed as deep as possible until the training error is minimized. The test accuracy for such a model is given by your answer in part 5.\n",
    "\n",
    "In this step, you will vary the max_depth hyperparameter values from 1 to 10. Apply 10-fold cross validation on X_train and Y_train to select the hyperparameters (make sure you perform cross-validation on the training set only). For each hyperparameter, calculate the corresponding validation set accuracy, which is automatically returned by the cross_val_score function (see lecture 13). Take their average values to be the validation set accuracy for the given hyperparameter. Next, train a decision tree classifier on the entire training data (for each hyperparameter). Apply the classifier to the test data and calculate the test accuracy. To ensure repeatability, set the random_state parameter for DecisionTreeClassifier to be 1. \n",
    "\n",
    "Draw a plot of the test set accuracy and validation set accuracy against the maximum depth hyperparameter. Show the hyperparameter that gives the highest validation set accuracy. Show also the test accuracy associated with the chosen best hyperparameter. \n",
    "\n",
    "**Solution:**"
   ]
  },
  {
   "cell_type": "code",
   "execution_count": 5,
   "metadata": {
    "scrolled": false
   },
   "outputs": [
    {
     "name": "stdout",
     "output_type": "stream",
     "text": [
      "Best hyperparameter: maxdepth = 2\n",
      "Test Accuracy = 0.8\n"
     ]
    },
    {
     "data": {
      "image/png": "[encoded data removed]",
      "text/plain": [
       "<Figure size 432x288 with 1 Axes>"
      ]
     },
     "metadata": {
      "needs_background": "light"
     },
     "output_type": "display_data"
    }
   ],
   "source": [
    "import numpy as np\n",
    "from sklearn import tree\n",
    "from sklearn.metrics import accuracy_score\n",
    "from sklearn.model_selection import cross_val_score\n",
    "import matplotlib.pyplot as plt\n",
    "%matplotlib inline\n",
    "\n",
    "\n",
    "maxdepths = [1,2,3,4,5,6,7,8,9,10]\n",
    "validationAcc = np.zeros(len(maxdepths))\n",
    "testAcc = np.zeros(len(maxdepths))\n",
    "\n",
    "numFolds = 10\n",
    "index = 0\n",
    "for depth in maxdepths:\n",
    "    clf = tree.DecisionTreeClassifier(max_depth=depth, random_state=1)\n",
    "    scores = cross_val_score(clf, X_train, Y_train, cv=numFolds)\n",
    "    validationAcc[index] = np.mean(scores)\n",
    "    \n",
    "    clf = clf.fit(X_train, Y_train)\n",
    "    Y_predTest = clf.predict(X_test)\n",
    "    testAcc[index] = accuracy_score(Y_test, Y_predTest)\n",
    "    index += 1\n",
    "\n",
    "plt.plot(maxdepths, validationAcc, 'ro--', maxdepths, testAcc, 'kv-')\n",
    "plt.xlabel('Maximum depth')\n",
    "plt.ylabel('Accuracy')\n",
    "plt.title('Decision tree')\n",
    "plt.legend(['Validation','Testing'])\n",
    "plt.ylim([0.7,1.0])\n",
    "\n",
    "bestHyperparam = np.argmax(validationAcc)\n",
    "print('Best hyperparameter: maxdepth =', maxdepths[bestHyperparam])\n",
    "print('Test Accuracy =', testAcc[bestHyperparam])"
   ]
  },
  {
   "cell_type": "markdown",
   "metadata": {},
   "source": [
    "**7.** Repeat the previous question using a k-nearest neighbor classifier. Vary the number of nearest neighbors (k) as follows: [1, 3, 5, 7, 10, 15, 20, 25, 30]. Use 10-fold cross validation for hyperparameter tuning and store the validation set accuracy for each hyperparameter by averaging the accuracy over all 10 folds. Report also the test accuracy for each hyperparameter and draw a plot of test set accuracy and validation set accuracy against the number of nearest neighbors. Display the hyperparameter that gives the highest validation accuracy. Display the test accuracy associated with the chosen best hyperparameter.\n",
    "\n",
    "**Solution:**"
   ]
  },
  {
   "cell_type": "code",
   "execution_count": 6,
   "metadata": {},
   "outputs": [
    {
     "name": "stdout",
     "output_type": "stream",
     "text": [
      "Best hyperparameter: k = 1\n",
      "Test Accuracy = 0.8646153846153846\n"
     ]
    },
    {
     "data": {
      "image/png": "[encoded data removed]",
      "text/plain": [
       "<Figure size 432x288 with 1 Axes>"
      ]
     },
     "metadata": {
      "needs_background": "light"
     },
     "output_type": "display_data"
    }
   ],
   "source": [
    "from sklearn.neighbors import KNeighborsClassifier\n",
    "import matplotlib.pyplot as plt\n",
    "%matplotlib inline\n",
    "\n",
    "numNeighbors = [1, 3, 5, 7, 10, 15, 20, 25, 30]\n",
    "validationAcc = np.zeros(len(numNeighbors))\n",
    "testAcc = np.zeros(len(numNeighbors))\n",
    "numFolds = 10\n",
    "index = 0\n",
    "\n",
    "for nn in numNeighbors:\n",
    "    clf = KNeighborsClassifier(n_neighbors=nn)\n",
    "    scores = cross_val_score(clf, X_train, Y_train, cv=numFolds)\n",
    "    validationAcc[index] = np.mean(scores)\n",
    "    \n",
    "    clf = clf.fit(X_train, Y_train)\n",
    "    Y_predTest = clf.predict(X_test)\n",
    "    testAcc[index] = accuracy_score(Y_test, Y_predTest)\n",
    "    index += 1\n",
    "\n",
    "plt.plot(numNeighbors, validationAcc, 'ro--', numNeighbors, testAcc, 'kv-')\n",
    "plt.xlabel('Number of neighbors')\n",
    "plt.ylabel('Accuracy')\n",
    "plt.title('k-nearest neighbors')\n",
    "plt.legend(['Validation','Testing'])\n",
    "plt.ylim([0.7,1.0])\n",
    "\n",
    "bestHyperparam = np.argmax(validationAcc)\n",
    "print('Best hyperparameter: k =', numNeighbors[bestHyperparam])\n",
    "print('Test Accuracy =', testAcc[bestHyperparam])"
   ]
  },
  {
   "cell_type": "markdown",
   "metadata": {},
   "source": [
    "**8.** Repeat previous question using logistic regression with 'l1' penalty and 'liblinear' as its solver. Set the regularization parameter C to a value chosen from [0.01, 0.02, 0.05, 0.1, 0.2, 0.3, 0.4, 0.5]. Use 10-fold cross validation for hyperparameter tuning and store the validation set accuracy for each hyperparameter by averaging the accuracy over all 10 folds. Report also the test accuracy for each hyperparameter and draw a plot of test set accuracy and validation set accuracy against the regularization parameter C. Display the hyperparameter that gives the highest validation accuracy. Display the test accuracy associated with the chosen best hyperparameter.\n",
    "\n",
    "**Solution:**"
   ]
  },
  {
   "cell_type": "code",
   "execution_count": 7,
   "metadata": {},
   "outputs": [
    {
     "name": "stdout",
     "output_type": "stream",
     "text": [
      "Best hyperparameter, C = 0.05\n",
      "Test Accuracy = 0.84\n"
     ]
    },
    {
     "data": {
      "image/png": "[encoded data removed]",
      "text/plain": [
       "<Figure size 432x288 with 1 Axes>"
      ]
     },
     "metadata": {
      "needs_background": "light"
     },
     "output_type": "display_data"
    }
   ],
   "source": [
    "from sklearn import linear_model\n",
    "\n",
    "regularizers = [0.01, 0.02, 0.05, 0.1, 0.2, 0.3, 0.4, 0.5]\n",
    "validationAcc = np.zeros(len(regularizers))\n",
    "testAcc = np.zeros(len(regularizers))\n",
    "numFolds = 10\n",
    "index = 0\n",
    "\n",
    "for C in regularizers:\n",
    "    clf = linear_model.LogisticRegression(C=C,solver='liblinear',penalty='l1')\n",
    "    scores = cross_val_score(clf, X_train, Y_train, cv=numFolds)\n",
    "    validationAcc[index] = np.mean(scores)\n",
    "    \n",
    "    clf = clf.fit(X_train, Y_train)\n",
    "    Y_predTest = clf.predict(X_test)\n",
    "    testAcc[index] = accuracy_score(Y_test, Y_predTest)\n",
    "    index += 1\n",
    "    \n",
    "plt.plot(regularizers, validationAcc, 'ro--', regularizers, testAcc, 'kv-')\n",
    "plt.xlabel('Regularizer (C)')\n",
    "plt.ylabel('Accuracy')\n",
    "plt.title('Logistic regression')\n",
    "plt.legend(['Validation','Testing'])\n",
    "plt.ylim([0.7,1.0])\n",
    "\n",
    "bestHyperparam = np.argmax(validationAcc)\n",
    "print('Best hyperparameter, C =', regularizers[bestHyperparam])\n",
    "print('Test Accuracy =', testAcc[bestHyperparam])"
   ]
  }
 ],
 "metadata": {
  "anaconda-cloud": {},
  "kernelspec": {
   "display_name": "Python 3",
   "language": "python",
   "name": "python3"
  },
  "language_info": {
   "codemirror_mode": {
    "name": "ipython",
    "version": 3
   },
   "file_extension": ".py",
   "mimetype": "text/x-python",
   "name": "python",
   "nbconvert_exporter": "python",
   "pygments_lexer": "ipython3",
   "version": "3.7.6"
  }
 },
 "nbformat": 4,
 "nbformat_minor": 4
}
