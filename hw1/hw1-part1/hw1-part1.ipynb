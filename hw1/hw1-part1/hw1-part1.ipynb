{
 "cells": [
  {
   "cell_type": "markdown",
   "metadata": {},
   "source": [
    "# Homework 1 Part 1"
   ]
  },
  {
   "cell_type": "markdown",
   "metadata": {},
   "source": [
    "**1.**  Suppose you are provided with an online music streaming dataset, which contains information about users and the songs they streamed. The dataset contains a variety of attributes about the users and the songs. For each attribute given below, classify its type as nominal, ordinal, interval, or ratio.\n",
    "\n",
    "    (a) IP address of a user.\n",
    "    (b) Song preference of user, measured in terms of the number of times a user streamed a song. \n",
    "    (c) Song preference of user, measured in terms of the rating given by a user to the song (on an integer scale between 1 and 5).\n",
    "    (d) Number of membership years, measured relative to the year 2010. For example, if a user joined the streaming service in 2015, the number of membership years is 5.\n",
    "    (e) Song length (in minutes). For example, a song whose length is 4 minutes and 30 seconds will have a value of 4.5.\n",
    "    (f) Genre of a song (e.g., rock, pop, rap, or classical).\n",
    "    (g) Tempo of a song (e.g.., slow, medium, or fast)."
   ]
  },
  {
   "cell_type": "markdown",
   "metadata": {},
   "source": [
    "**Solution:**\n",
    "\n",
    "    (a) Nominal \n",
    "    (b) Ratio\n",
    "    (c) Ordinal\n",
    "    (d) Interval\n",
    "    (e) Ratio\n",
    "    (f) Nominal\n",
    "    (g) Ordinal\n",
    "    \n",
    "---"
   ]
  },
  {
   "cell_type": "markdown",
   "metadata": {},
   "source": [
    "**2.** State whether it is valid to apply the following operations to the attributes given below (where validity of the operation is determined by properties of the attribute values). If invalid, state your reason why the operation should not be performed on the attribute.\n",
    "\n",
    "    (a) Calculating the median ratings of users for a given movie. Here the user ratings range from 1-star to 5-stars. \n",
    "    (b) Calculating the entropy of students who are enrolled in a class based on their gender. \n",
    "    (c) Calculating the geometric mean of daily temperature (in degrees Fahrenheit) in the month of January for East Lansing. \n",
    "    (d) Calculating the correlation between SAT score and GPA of students. "
   ]
  },
  {
   "cell_type": "markdown",
   "metadata": {},
   "source": [
    "**Solution:**\n",
    "\n",
    "    (a) Invalid\n",
    "    (b) Valid\n",
    "    (c) Invalid\n",
    "    (d) Invalid"
   ]
  },
  {
   "cell_type": "markdown",
   "metadata": {},
   "source": [
    "**3.**  Write a python program that performs each of the following steps below:\n",
    "\n",
    "    (a) Use the Twitter streaming API to collect all the tweets that contain the keyword *flu*. Set the timer for collecting the tweets to 5 minutes (300 secs). Save the tweets in a file named flu.json.\n",
    "\n",
    "**Code:**"
   ]
  },
  {
   "cell_type": "code",
   "execution_count": 1,
   "metadata": {},
   "outputs": [],
   "source": [
    "import time\n",
    "from tweepy.streaming import StreamListener\n",
    "from tweepy import OAuthHandler\n",
    "from tweepy import Stream\n",
    "\n",
    "C_KEY = 'B9TKXEWyZb7EgxWmfq2Vgke0p'\n",
    "C_SECRET = 'mUbj1rrUKlYjMGE655bzygP0eY3lS5ihjRjIp3BozTOkkt5yJ2'\n",
    "A_TOKEN_KEY = '1216914346741325825-A03s8GoafxclYUZutGhroosJ2dhpUH'\n",
    "A_TOKEN_SECRET = 'Muku809iLWzEite4q3iM0YWZ1QQ2cgHrNPbz0xb7pN5V2'\n",
    "\n",
    "# Create a StreamListener class \n",
    "class MyListener(StreamListener):\n",
    "\n",
    "    def __init__(self, time_limit=300):\n",
    "        self.start_time = time.time()\n",
    "        self.limit = time_limit\n",
    "        self.outFile = open('flu.json', 'w')\n",
    "        super(MyListener, self).__init__()\n",
    "        \n",
    "    def on_data(self, data):\n",
    "        if (time.time() - self.start_time) < self.limit:\n",
    "            self.outFile.write(data.strip())\n",
    "            self.outFile.write('\\n')\n",
    "            return True\n",
    "        else:\n",
    "            self.outFile.close()\n",
    "            return False\n",
    "        \n",
    "    def on_error(self, status):\n",
    "        print(status)\n",
    "        \n",
    "auth = OAuthHandler(C_KEY,C_SECRET)\n",
    "auth.set_access_token(A_TOKEN_KEY,A_TOKEN_SECRET)\n",
    "myStream = Stream(auth, MyListener(time_limit= 300 ))\n",
    "myStream.filter(track=[ 'flu' ])"
   ]
  },
  {
   "cell_type": "markdown",
   "metadata": {},
   "source": [
    "    (b) Load the json file and store the tweet information into a dataframe named data, which contains 3 columns: user's screen_name, follower_count, and tweet message."
   ]
  },
  {
   "cell_type": "code",
   "execution_count": 6,
   "metadata": {},
   "outputs": [
    {
     "data": {
      "text/html": [
       "<div>\n",
       "<style scoped>\n",
       "    .dataframe tbody tr th:only-of-type {\n",
       "        vertical-align: middle;\n",
       "    }\n",
       "\n",
       "    .dataframe tbody tr th {\n",
       "        vertical-align: top;\n",
       "    }\n",
       "\n",
       "    .dataframe thead th {\n",
       "        text-align: right;\n",
       "    }\n",
       "</style>\n",
       "<table border=\"1\" class=\"dataframe\">\n",
       "  <thead>\n",
       "    <tr style=\"text-align: right;\">\n",
       "      <th></th>\n",
       "      <th>user</th>\n",
       "      <th>follower count</th>\n",
       "      <th>tweet</th>\n",
       "    </tr>\n",
       "  </thead>\n",
       "  <tbody>\n",
       "    <tr>\n",
       "      <th>0</th>\n",
       "      <td>idleskv</td>\n",
       "      <td>615</td>\n",
       "      <td>RT @WHOPhilippines: To date, there is no confi...</td>\n",
       "    </tr>\n",
       "    <tr>\n",
       "      <th>1</th>\n",
       "      <td>HereToResist</td>\n",
       "      <td>912</td>\n",
       "      <td>@hughhewitt \"Let's distract from the mafia cri...</td>\n",
       "    </tr>\n",
       "    <tr>\n",
       "      <th>2</th>\n",
       "      <td>Slv_do_mqFFC</td>\n",
       "      <td>2627</td>\n",
       "      <td>RT @DiaDiaFlu: A sede da Young Flu tá um luxo ...</td>\n",
       "    </tr>\n",
       "    <tr>\n",
       "      <th>3</th>\n",
       "      <td>blalock_chas</td>\n",
       "      <td>5543</td>\n",
       "      <td>@ABar99818097 Thank you! Lol, no flu, Thank Go...</td>\n",
       "    </tr>\n",
       "    <tr>\n",
       "      <th>4</th>\n",
       "      <td>23_tinytim</td>\n",
       "      <td>338</td>\n",
       "      <td>Pedialyte popsicles have saved me from this flu</td>\n",
       "    </tr>\n",
       "  </tbody>\n",
       "</table>\n",
       "</div>"
      ],
      "text/plain": [
       "           user follower count  \\\n",
       "0       idleskv            615   \n",
       "1  HereToResist            912   \n",
       "2  Slv_do_mqFFC           2627   \n",
       "3  blalock_chas           5543   \n",
       "4    23_tinytim            338   \n",
       "\n",
       "                                               tweet  \n",
       "0  RT @WHOPhilippines: To date, there is no confi...  \n",
       "1  @hughhewitt \"Let's distract from the mafia cri...  \n",
       "2  RT @DiaDiaFlu: A sede da Young Flu tá um luxo ...  \n",
       "3  @ABar99818097 Thank you! Lol, no flu, Thank Go...  \n",
       "4    Pedialyte popsicles have saved me from this flu  "
      ]
     },
     "execution_count": 6,
     "metadata": {},
     "output_type": "execute_result"
    }
   ],
   "source": [
    "import json\n",
    "import pandas as pd\n",
    "\n",
    "with open( 'flu.json' ) as f:\n",
    "    tweets = [json.loads(line) for line in f]           # load the json file and store the tweets in a list named tweets\n",
    "    data = pd.DataFrame(columns=['user','follower count', 'tweet']);    # create an empty data frame with column names \"user\", 'retweet_count', and \"tweet\"\n",
    "    for twt in tweets:\n",
    "        data = data.append({'user':twt['user']['screen_name'],'follower count':twt['user']['followers_count'], 'tweet': twt['text']},ignore_index = True)  # append the tweet to the data frame\n",
    "        \n",
    "data.head()"
   ]
  },
  {
   "cell_type": "markdown",
   "metadata": {},
   "source": [
    "    (c) Find the top-5 users with highest number of followers. Display their screen_names along with follower counts.\n",
    "    \n",
    "**Code:**"
   ]
  },
  {
   "cell_type": "code",
   "execution_count": 9,
   "metadata": {},
   "outputs": [
    {
     "data": {
      "text/html": [
       "<div>\n",
       "<style scoped>\n",
       "    .dataframe tbody tr th:only-of-type {\n",
       "        vertical-align: middle;\n",
       "    }\n",
       "\n",
       "    .dataframe tbody tr th {\n",
       "        vertical-align: top;\n",
       "    }\n",
       "\n",
       "    .dataframe thead th {\n",
       "        text-align: right;\n",
       "    }\n",
       "</style>\n",
       "<table border=\"1\" class=\"dataframe\">\n",
       "  <thead>\n",
       "    <tr style=\"text-align: right;\">\n",
       "      <th></th>\n",
       "      <th>user</th>\n",
       "      <th>follower count</th>\n",
       "      <th>tweet</th>\n",
       "    </tr>\n",
       "  </thead>\n",
       "  <tbody>\n",
       "    <tr>\n",
       "      <th>193</th>\n",
       "      <td>weatherchannel</td>\n",
       "      <td>3670199</td>\n",
       "      <td>Oregon and Hawaii are the only two states wher...</td>\n",
       "    </tr>\n",
       "    <tr>\n",
       "      <th>153</th>\n",
       "      <td>radiofmodia</td>\n",
       "      <td>544043</td>\n",
       "      <td>Bora pro Maraca? Tem jogo na quarta e na quint...</td>\n",
       "    </tr>\n",
       "    <tr>\n",
       "      <th>168</th>\n",
       "      <td>dailystar</td>\n",
       "      <td>192717</td>\n",
       "      <td>British tourist with deadly flu on Thai island...</td>\n",
       "    </tr>\n",
       "    <tr>\n",
       "      <th>77</th>\n",
       "      <td>FDAWomen</td>\n",
       "      <td>73511</td>\n",
       "      <td>RT @CDCtravel: No matter where you travel next...</td>\n",
       "    </tr>\n",
       "    <tr>\n",
       "      <th>194</th>\n",
       "      <td>5ilence_d0g00d</td>\n",
       "      <td>25502</td>\n",
       "      <td>@RealMattCouch A fart when I have the flu.</td>\n",
       "    </tr>\n",
       "  </tbody>\n",
       "</table>\n",
       "</div>"
      ],
      "text/plain": [
       "               user follower count  \\\n",
       "193  weatherchannel        3670199   \n",
       "153     radiofmodia         544043   \n",
       "168       dailystar         192717   \n",
       "77         FDAWomen          73511   \n",
       "194  5ilence_d0g00d          25502   \n",
       "\n",
       "                                                 tweet  \n",
       "193  Oregon and Hawaii are the only two states wher...  \n",
       "153  Bora pro Maraca? Tem jogo na quarta e na quint...  \n",
       "168  British tourist with deadly flu on Thai island...  \n",
       "77   RT @CDCtravel: No matter where you travel next...  \n",
       "194         @RealMattCouch A fart when I have the flu.  "
      ]
     },
     "execution_count": 9,
     "metadata": {},
     "output_type": "execute_result"
    }
   ],
   "source": [
    "data.sort_values(by=['follower count'],ascending=False).head()"
   ]
  }
 ],
 "metadata": {
  "anaconda-cloud": {},
  "kernelspec": {
   "display_name": "Python 3",
   "language": "python",
   "name": "python3"
  },
  "language_info": {
   "codemirror_mode": {
    "name": "ipython",
    "version": 3
   },
   "file_extension": ".py",
   "mimetype": "text/x-python",
   "name": "python",
   "nbconvert_exporter": "python",
   "pygments_lexer": "ipython3",
   "version": "3.7.6"
  }
 },
 "nbformat": 4,
 "nbformat_minor": 1
}
