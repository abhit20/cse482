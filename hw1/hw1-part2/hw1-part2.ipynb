{
 "cells": [
  {
   "cell_type": "markdown",
   "metadata": {},
   "source": [
    "# Homework 1 Part 2"
   ]
  },
  {
   "cell_type": "markdown",
   "metadata": {},
   "source": [
    "**4.** Download the historical stock price for Citibank (ticker symbol: C) from the Yahoo finance website (https://finance.yahoo.com/quote/C) for the time period between Jan 1, 2000 to Dec 31, 2019. Use the \"Download Data\" option on the web page to download and save the data into a file named C.csv.\n",
    "\n",
    "  (a). Load the data into a dataframe object named price."
   ]
  },
  {
   "cell_type": "code",
   "execution_count": 1,
   "metadata": {},
   "outputs": [
    {
     "data": {
      "text/html": [
       "<div>\n",
       "<style scoped>\n",
       "    .dataframe tbody tr th:only-of-type {\n",
       "        vertical-align: middle;\n",
       "    }\n",
       "\n",
       "    .dataframe tbody tr th {\n",
       "        vertical-align: top;\n",
       "    }\n",
       "\n",
       "    .dataframe thead th {\n",
       "        text-align: right;\n",
       "    }\n",
       "</style>\n",
       "<table border=\"1\" class=\"dataframe\">\n",
       "  <thead>\n",
       "    <tr style=\"text-align: right;\">\n",
       "      <th></th>\n",
       "      <th>Date</th>\n",
       "      <th>Open</th>\n",
       "      <th>High</th>\n",
       "      <th>Low</th>\n",
       "      <th>Close</th>\n",
       "      <th>Adj Close</th>\n",
       "      <th>Volume</th>\n",
       "    </tr>\n",
       "  </thead>\n",
       "  <tbody>\n",
       "    <tr>\n",
       "      <th>0</th>\n",
       "      <td>2000-01-03</td>\n",
       "      <td>417.18750</td>\n",
       "      <td>417.18750</td>\n",
       "      <td>390.00000</td>\n",
       "      <td>397.500</td>\n",
       "      <td>332.565002</td>\n",
       "      <td>1681900</td>\n",
       "    </tr>\n",
       "    <tr>\n",
       "      <th>1</th>\n",
       "      <td>2000-01-04</td>\n",
       "      <td>390.00000</td>\n",
       "      <td>391.40625</td>\n",
       "      <td>373.12500</td>\n",
       "      <td>373.125</td>\n",
       "      <td>312.171967</td>\n",
       "      <td>2403200</td>\n",
       "    </tr>\n",
       "    <tr>\n",
       "      <th>2</th>\n",
       "      <td>2000-01-05</td>\n",
       "      <td>381.56250</td>\n",
       "      <td>390.00000</td>\n",
       "      <td>371.25000</td>\n",
       "      <td>388.125</td>\n",
       "      <td>324.721588</td>\n",
       "      <td>1742500</td>\n",
       "    </tr>\n",
       "    <tr>\n",
       "      <th>3</th>\n",
       "      <td>2000-01-06</td>\n",
       "      <td>384.84375</td>\n",
       "      <td>410.15625</td>\n",
       "      <td>384.37500</td>\n",
       "      <td>406.875</td>\n",
       "      <td>340.408417</td>\n",
       "      <td>1863200</td>\n",
       "    </tr>\n",
       "    <tr>\n",
       "      <th>4</th>\n",
       "      <td>2000-01-07</td>\n",
       "      <td>405.00000</td>\n",
       "      <td>412.03125</td>\n",
       "      <td>396.09375</td>\n",
       "      <td>405.000</td>\n",
       "      <td>338.839813</td>\n",
       "      <td>1394500</td>\n",
       "    </tr>\n",
       "  </tbody>\n",
       "</table>\n",
       "</div>"
      ],
      "text/plain": [
       "         Date       Open       High        Low    Close   Adj Close   Volume\n",
       "0  2000-01-03  417.18750  417.18750  390.00000  397.500  332.565002  1681900\n",
       "1  2000-01-04  390.00000  391.40625  373.12500  373.125  312.171967  2403200\n",
       "2  2000-01-05  381.56250  390.00000  371.25000  388.125  324.721588  1742500\n",
       "3  2000-01-06  384.84375  410.15625  384.37500  406.875  340.408417  1863200\n",
       "4  2000-01-07  405.00000  412.03125  396.09375  405.000  338.839813  1394500"
      ]
     },
     "execution_count": 1,
     "metadata": {},
     "output_type": "execute_result"
    }
   ],
   "source": [
    "import pandas as pd\n",
    "\n",
    "price = pd.read_csv(\"C.csv\")\n",
    "price.head()"
   ]
  },
  {
   "cell_type": "markdown",
   "metadata": {},
   "source": [
    " (b) Plot the time series for the adjusted close price."
   ]
  },
  {
   "cell_type": "code",
   "execution_count": 2,
   "metadata": {},
   "outputs": [
    {
     "data": {
      "text/plain": [
       "<matplotlib.axes._subplots.AxesSubplot at 0x123484850>"
      ]
     },
     "execution_count": 2,
     "metadata": {},
     "output_type": "execute_result"
    },
    {
     "data": {
      "image/png": "[encoded data removed]",
      "text/plain": [
       "<Figure size 432x288 with 1 Axes>"
      ]
     },
     "metadata": {
      "needs_background": "light"
     },
     "output_type": "display_data"
    }
   ],
   "source": [
    "%matplotlib inline\n",
    "price['Adj Close'].plot(kind='line')"
   ]
  },
  {
   "cell_type": "markdown",
   "metadata": {},
   "source": [
    "(c) Create a new Series object named diff that contains to the difference between the adjusted closing price of a trading day and the adjusted price of its previous trading day. Next, transform the values into Z-scores by subtracting each value from its mean and dividing by its standard deviation.   "
   ]
  },
  {
   "cell_type": "code",
   "execution_count": 3,
   "metadata": {},
   "outputs": [
    {
     "data": {
      "text/plain": [
       "2000-01-04   -4.072440\n",
       "2000-01-05    2.522402\n",
       "2000-01-06    3.150444\n",
       "2000-01-07   -0.303948\n",
       "2000-01-10   -0.225461\n",
       "                ...   \n",
       "2019-12-23    0.060121\n",
       "2019-12-24   -0.023960\n",
       "2019-12-26    0.258312\n",
       "2019-12-27   -0.021958\n",
       "2019-12-30   -0.021956\n",
       "Length: 5029, dtype: float64"
      ]
     },
     "execution_count": 3,
     "metadata": {},
     "output_type": "execute_result"
    }
   ],
   "source": [
    "import numpy as np\n",
    "stockprice = pd.Series(list(price['Adj Close']), index = list(price['Date']))\n",
    "\n",
    "N = stockprice.size\n",
    "delta = stockprice[1:].values-stockprice[:N-1].values\n",
    "diff = pd.Series(delta,index=stockprice[1:].index)\n",
    "\n",
    "Z_score = (diff - diff.mean())/diff.std()\n",
    "Z_stockprice = pd.Series(Z_score, index = diff.index)\n",
    "Z_stockprice"
   ]
  },
  {
   "cell_type": "markdown",
   "metadata": {},
   "source": [
    "(d) Identify the dates that correspond to the top-5 outliers in the data. These corresponding to the dates whose adjusted closing price change values with highest absolute Z-score values. Store your answer in a DataFrame object named results, which contains 2 columns (Date and Z-score)."
   ]
  },
  {
   "cell_type": "code",
   "execution_count": 4,
   "metadata": {},
   "outputs": [
    {
     "data": {
      "text/html": [
       "<div>\n",
       "<style scoped>\n",
       "    .dataframe tbody tr th:only-of-type {\n",
       "        vertical-align: middle;\n",
       "    }\n",
       "\n",
       "    .dataframe tbody tr th {\n",
       "        vertical-align: top;\n",
       "    }\n",
       "\n",
       "    .dataframe thead th {\n",
       "        text-align: right;\n",
       "    }\n",
       "</style>\n",
       "<table border=\"1\" class=\"dataframe\">\n",
       "  <thead>\n",
       "    <tr style=\"text-align: right;\">\n",
       "      <th></th>\n",
       "      <th>Z-score</th>\n",
       "    </tr>\n",
       "  </thead>\n",
       "  <tbody>\n",
       "    <tr>\n",
       "      <th>2002-07-23</th>\n",
       "      <td>-8.459188</td>\n",
       "    </tr>\n",
       "    <tr>\n",
       "      <th>2008-10-03</th>\n",
       "      <td>-7.645671</td>\n",
       "    </tr>\n",
       "    <tr>\n",
       "      <th>2001-01-03</th>\n",
       "      <td>7.452284</td>\n",
       "    </tr>\n",
       "    <tr>\n",
       "      <th>2008-09-19</th>\n",
       "      <td>7.389110</td>\n",
       "    </tr>\n",
       "    <tr>\n",
       "      <th>2002-10-15</th>\n",
       "      <td>6.915460</td>\n",
       "    </tr>\n",
       "  </tbody>\n",
       "</table>\n",
       "</div>"
      ],
      "text/plain": [
       "             Z-score\n",
       "2002-07-23 -8.459188\n",
       "2008-10-03 -7.645671\n",
       "2001-01-03  7.452284\n",
       "2008-09-19  7.389110\n",
       "2002-10-15  6.915460"
      ]
     },
     "execution_count": 4,
     "metadata": {},
     "output_type": "execute_result"
    }
   ],
   "source": [
    "results = pd.DataFrame(Z_stockprice.reindex(Z_stockprice.abs().sort_values(ascending=False).index), columns = [\"Z-score\"])\n",
    "results.head()"
   ]
  },
  {
   "cell_type": "markdown",
   "metadata": {},
   "source": [
    "**5.** For this question, you need to write a function that takes two series objects as input, one is quantitative-valued while the other is qualitative, and performs entropy-based discretization on the quantitative-valued series. The number of bins needed is also an input parameter of the function. The function should return a series object containing the discretized values. Apply the function to the dataframe object given below."
   ]
  },
  {
   "cell_type": "code",
   "execution_count": 5,
   "metadata": {},
   "outputs": [
    {
     "data": {
      "text/html": [
       "<div>\n",
       "<style scoped>\n",
       "    .dataframe tbody tr th:only-of-type {\n",
       "        vertical-align: middle;\n",
       "    }\n",
       "\n",
       "    .dataframe tbody tr th {\n",
       "        vertical-align: top;\n",
       "    }\n",
       "\n",
       "    .dataframe thead th {\n",
       "        text-align: right;\n",
       "    }\n",
       "</style>\n",
       "<table border=\"1\" class=\"dataframe\">\n",
       "  <thead>\n",
       "    <tr style=\"text-align: right;\">\n",
       "      <th></th>\n",
       "      <th>Gender</th>\n",
       "      <th>Risk</th>\n",
       "    </tr>\n",
       "  </thead>\n",
       "  <tbody>\n",
       "    <tr>\n",
       "      <th>0</th>\n",
       "      <td>M</td>\n",
       "      <td>0.43</td>\n",
       "    </tr>\n",
       "    <tr>\n",
       "      <th>1</th>\n",
       "      <td>F</td>\n",
       "      <td>0.82</td>\n",
       "    </tr>\n",
       "    <tr>\n",
       "      <th>2</th>\n",
       "      <td>M</td>\n",
       "      <td>0.56</td>\n",
       "    </tr>\n",
       "    <tr>\n",
       "      <th>3</th>\n",
       "      <td>F</td>\n",
       "      <td>0.24</td>\n",
       "    </tr>\n",
       "    <tr>\n",
       "      <th>4</th>\n",
       "      <td>M</td>\n",
       "      <td>0.99</td>\n",
       "    </tr>\n",
       "    <tr>\n",
       "      <th>5</th>\n",
       "      <td>F</td>\n",
       "      <td>0.14</td>\n",
       "    </tr>\n",
       "    <tr>\n",
       "      <th>6</th>\n",
       "      <td>M</td>\n",
       "      <td>0.72</td>\n",
       "    </tr>\n",
       "    <tr>\n",
       "      <th>7</th>\n",
       "      <td>F</td>\n",
       "      <td>0.81</td>\n",
       "    </tr>\n",
       "    <tr>\n",
       "      <th>8</th>\n",
       "      <td>M</td>\n",
       "      <td>0.26</td>\n",
       "    </tr>\n",
       "    <tr>\n",
       "      <th>9</th>\n",
       "      <td>F</td>\n",
       "      <td>0.11</td>\n",
       "    </tr>\n",
       "    <tr>\n",
       "      <th>10</th>\n",
       "      <td>M</td>\n",
       "      <td>0.73</td>\n",
       "    </tr>\n",
       "    <tr>\n",
       "      <th>11</th>\n",
       "      <td>F</td>\n",
       "      <td>0.86</td>\n",
       "    </tr>\n",
       "  </tbody>\n",
       "</table>\n",
       "</div>"
      ],
      "text/plain": [
       "   Gender  Risk\n",
       "0       M  0.43\n",
       "1       F  0.82\n",
       "2       M  0.56\n",
       "3       F  0.24\n",
       "4       M  0.99\n",
       "5       F  0.14\n",
       "6       M  0.72\n",
       "7       F  0.81\n",
       "8       M  0.26\n",
       "9       F  0.11\n",
       "10      M  0.73\n",
       "11      F  0.86"
      ]
     },
     "execution_count": 5,
     "metadata": {},
     "output_type": "execute_result"
    }
   ],
   "source": [
    "import pandas as pd\n",
    "\n",
    "values = {'Gender': ['M', 'F', 'M', 'F', 'M', 'F', 'M', 'F', 'M', 'F', 'M', 'F'],\n",
    "          'Risk': [0.43, 0.82, 0.56, 0.24, 0.99, 0.14, 0.72, 0.81, 0.26, 0.11, 0.73, 0.86]}\n",
    "\n",
    "data = pd.DataFrame(values)\n",
    "data"
   ]
  },
  {
   "cell_type": "code",
   "execution_count": 6,
   "metadata": {},
   "outputs": [],
   "source": [
    "from scipy.stats import entropy\n",
    "\n",
    "def calcEntropy(classAtrr):\n",
    "    value,counts = np.unique(classAtrr, return_counts=True)\n",
    "    return entropy(counts, base=2)"
   ]
  },
  {
   "cell_type": "code",
   "execution_count": 7,
   "metadata": {},
   "outputs": [],
   "source": [
    "def discretize(qualAttr, classAttr, numBins):\n",
    "    minval = qualAttr.min()\n",
    "    maxval = qualAttr.max()\n",
    "    binstr = '[' + str(minval) + '-' + str(maxval) +']'\n",
    "    discAttr = pd.Series([binstr for x in qualAttr])\n",
    "    indices = qualAttr.index\n",
    "    \n",
    "    for i in range(1,numBins):\n",
    "        q = qualAttr.loc[indices]\n",
    "        c = classAttr.loc[indices]\n",
    "        \n",
    "        bestsplit = -1\n",
    "        bestleftent = bestrightent = best_entropy = 100000\n",
    "        bestleftindex = bestrightindex = indices\n",
    "        N = q.shape[0]\n",
    "        \n",
    "        for val in q.unique():\n",
    "            left = c[q <= val]\n",
    "            left_size = left.shape[0]\n",
    "            left_ent = calcEntropy(left)   \n",
    "            right = c[q > val]\n",
    "            right_size = right.shape[0]\n",
    "            right_ent = calcEntropy(right)\n",
    "            total_ent = left_size/N*left_ent + right_size/N*right_ent\n",
    "            if total_ent < best_entropy:\n",
    "                best_entropy = total_ent\n",
    "                bestsplit = val\n",
    "                bestleftindex = left.index\n",
    "                bestrightindex = right.index\n",
    "                bestleftent = left_ent\n",
    "                bestrightent = right_ent\n",
    "                discAttr.loc[bestleftindex] = '(' + str(minval) + '-' + str(bestsplit) +']'\n",
    "                discAttr.loc[bestrightindex] = '(' + str(bestsplit) + '-' + str(maxval) +']'\n",
    "\n",
    "        if bestleftent >= bestrightent:\n",
    "            maxval = bestsplit\n",
    "            indices = bestleftindex\n",
    "        else:\n",
    "            minval = bestsplit\n",
    "            indices = bestrightindex\n",
    "        \n",
    "    return discAttr "
   ]
  },
  {
   "cell_type": "code",
   "execution_count": 8,
   "metadata": {},
   "outputs": [
    {
     "data": {
      "text/html": [
       "<div>\n",
       "<style scoped>\n",
       "    .dataframe tbody tr th:only-of-type {\n",
       "        vertical-align: middle;\n",
       "    }\n",
       "\n",
       "    .dataframe tbody tr th {\n",
       "        vertical-align: top;\n",
       "    }\n",
       "\n",
       "    .dataframe thead th {\n",
       "        text-align: right;\n",
       "    }\n",
       "</style>\n",
       "<table border=\"1\" class=\"dataframe\">\n",
       "  <thead>\n",
       "    <tr style=\"text-align: right;\">\n",
       "      <th></th>\n",
       "      <th>Gender</th>\n",
       "      <th>Risk</th>\n",
       "      <th>RiskCategory</th>\n",
       "    </tr>\n",
       "  </thead>\n",
       "  <tbody>\n",
       "    <tr>\n",
       "      <th>0</th>\n",
       "      <td>M</td>\n",
       "      <td>0.43</td>\n",
       "      <td>(0.24-0.73]</td>\n",
       "    </tr>\n",
       "    <tr>\n",
       "      <th>1</th>\n",
       "      <td>F</td>\n",
       "      <td>0.82</td>\n",
       "      <td>(0.73-0.99]</td>\n",
       "    </tr>\n",
       "    <tr>\n",
       "      <th>2</th>\n",
       "      <td>M</td>\n",
       "      <td>0.56</td>\n",
       "      <td>(0.24-0.73]</td>\n",
       "    </tr>\n",
       "    <tr>\n",
       "      <th>3</th>\n",
       "      <td>F</td>\n",
       "      <td>0.24</td>\n",
       "      <td>(0.11-0.24]</td>\n",
       "    </tr>\n",
       "    <tr>\n",
       "      <th>4</th>\n",
       "      <td>M</td>\n",
       "      <td>0.99</td>\n",
       "      <td>(0.73-0.99]</td>\n",
       "    </tr>\n",
       "    <tr>\n",
       "      <th>5</th>\n",
       "      <td>F</td>\n",
       "      <td>0.14</td>\n",
       "      <td>(0.11-0.24]</td>\n",
       "    </tr>\n",
       "    <tr>\n",
       "      <th>6</th>\n",
       "      <td>M</td>\n",
       "      <td>0.72</td>\n",
       "      <td>(0.24-0.73]</td>\n",
       "    </tr>\n",
       "    <tr>\n",
       "      <th>7</th>\n",
       "      <td>F</td>\n",
       "      <td>0.81</td>\n",
       "      <td>(0.73-0.99]</td>\n",
       "    </tr>\n",
       "    <tr>\n",
       "      <th>8</th>\n",
       "      <td>M</td>\n",
       "      <td>0.26</td>\n",
       "      <td>(0.24-0.73]</td>\n",
       "    </tr>\n",
       "    <tr>\n",
       "      <th>9</th>\n",
       "      <td>F</td>\n",
       "      <td>0.11</td>\n",
       "      <td>(0.11-0.24]</td>\n",
       "    </tr>\n",
       "    <tr>\n",
       "      <th>10</th>\n",
       "      <td>M</td>\n",
       "      <td>0.73</td>\n",
       "      <td>(0.24-0.73]</td>\n",
       "    </tr>\n",
       "    <tr>\n",
       "      <th>11</th>\n",
       "      <td>F</td>\n",
       "      <td>0.86</td>\n",
       "      <td>(0.73-0.99]</td>\n",
       "    </tr>\n",
       "  </tbody>\n",
       "</table>\n",
       "</div>"
      ],
      "text/plain": [
       "   Gender  Risk RiskCategory\n",
       "0       M  0.43  (0.24-0.73]\n",
       "1       F  0.82  (0.73-0.99]\n",
       "2       M  0.56  (0.24-0.73]\n",
       "3       F  0.24  (0.11-0.24]\n",
       "4       M  0.99  (0.73-0.99]\n",
       "5       F  0.14  (0.11-0.24]\n",
       "6       M  0.72  (0.24-0.73]\n",
       "7       F  0.81  (0.73-0.99]\n",
       "8       M  0.26  (0.24-0.73]\n",
       "9       F  0.11  (0.11-0.24]\n",
       "10      M  0.73  (0.24-0.73]\n",
       "11      F  0.86  (0.73-0.99]"
      ]
     },
     "execution_count": 8,
     "metadata": {},
     "output_type": "execute_result"
    }
   ],
   "source": [
    "data['RiskCategory'] = discretize(data['Risk'],data['Gender'],3)\n",
    "data"
   ]
  }
 ],
 "metadata": {
  "anaconda-cloud": {},
  "kernelspec": {
   "display_name": "Python 3",
   "language": "python",
   "name": "python3"
  },
  "language_info": {
   "codemirror_mode": {
    "name": "ipython",
    "version": 3
   },
   "file_extension": ".py",
   "mimetype": "text/x-python",
   "name": "python",
   "nbconvert_exporter": "python",
   "pygments_lexer": "ipython3",
   "version": "3.7.6"
  }
 },
 "nbformat": 4,
 "nbformat_minor": 1
}
