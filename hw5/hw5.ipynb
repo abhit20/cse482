{
 "cells": [
  {
   "cell_type": "markdown",
   "metadata": {},
   "source": [
    "# Homework 5"
   ]
  },
  {
   "cell_type": "markdown",
   "metadata": {},
   "source": [
    "**1.** For this question, you need to write a Python implementation for computing the baseline and matrix factorization models for a collaborative filtering application. You must not use the python Surprise or any other existing libraries developed for building recommender system. You can only pandas to load the data and numpy routines to perform matrix computations.    \n",
    "\n",
    "**(a)** Download the input file named *ratings.csv* and store it in a pandas Dataframe object named data. Reassign the row index so that the users (rows) correspond to John, Mary, Lee, Joe, Kim, and Bob. Note that column headings have already been provided in the input file. "
   ]
  },
  {
   "cell_type": "code",
   "execution_count": 1,
   "metadata": {},
   "outputs": [
    {
     "data": {
      "text/html": [
       "<div>\n",
       "<style scoped>\n",
       "    .dataframe tbody tr th:only-of-type {\n",
       "        vertical-align: middle;\n",
       "    }\n",
       "\n",
       "    .dataframe tbody tr th {\n",
       "        vertical-align: top;\n",
       "    }\n",
       "\n",
       "    .dataframe thead th {\n",
       "        text-align: right;\n",
       "    }\n",
       "</style>\n",
       "<table border=\"1\" class=\"dataframe\">\n",
       "  <thead>\n",
       "    <tr style=\"text-align: right;\">\n",
       "      <th></th>\n",
       "      <th>Mission Impossible</th>\n",
       "      <th>Over the Hedge</th>\n",
       "      <th>Back to the Future</th>\n",
       "      <th>Harry Potter</th>\n",
       "      <th>Aladdin</th>\n",
       "    </tr>\n",
       "  </thead>\n",
       "  <tbody>\n",
       "    <tr>\n",
       "      <th>John</th>\n",
       "      <td>5.0</td>\n",
       "      <td>3</td>\n",
       "      <td>4.0</td>\n",
       "      <td>NaN</td>\n",
       "      <td>3</td>\n",
       "    </tr>\n",
       "    <tr>\n",
       "      <th>Mary</th>\n",
       "      <td>5.0</td>\n",
       "      <td>4</td>\n",
       "      <td>5.0</td>\n",
       "      <td>5.0</td>\n",
       "      <td>5</td>\n",
       "    </tr>\n",
       "    <tr>\n",
       "      <th>Lee</th>\n",
       "      <td>2.0</td>\n",
       "      <td>2</td>\n",
       "      <td>4.0</td>\n",
       "      <td>5.0</td>\n",
       "      <td>1</td>\n",
       "    </tr>\n",
       "    <tr>\n",
       "      <th>Joe</th>\n",
       "      <td>3.0</td>\n",
       "      <td>1</td>\n",
       "      <td>1.0</td>\n",
       "      <td>2.0</td>\n",
       "      <td>1</td>\n",
       "    </tr>\n",
       "    <tr>\n",
       "      <th>Kim</th>\n",
       "      <td>4.0</td>\n",
       "      <td>5</td>\n",
       "      <td>NaN</td>\n",
       "      <td>2.0</td>\n",
       "      <td>2</td>\n",
       "    </tr>\n",
       "    <tr>\n",
       "      <th>Bob</th>\n",
       "      <td>NaN</td>\n",
       "      <td>1</td>\n",
       "      <td>5.0</td>\n",
       "      <td>4.0</td>\n",
       "      <td>2</td>\n",
       "    </tr>\n",
       "  </tbody>\n",
       "</table>\n",
       "</div>"
      ],
      "text/plain": [
       "      Mission Impossible  Over the Hedge  Back to the Future  Harry Potter  \\\n",
       "John                 5.0               3                 4.0           NaN   \n",
       "Mary                 5.0               4                 5.0           5.0   \n",
       "Lee                  2.0               2                 4.0           5.0   \n",
       "Joe                  3.0               1                 1.0           2.0   \n",
       "Kim                  4.0               5                 NaN           2.0   \n",
       "Bob                  NaN               1                 5.0           4.0   \n",
       "\n",
       "      Aladdin  \n",
       "John        3  \n",
       "Mary        5  \n",
       "Lee         1  \n",
       "Joe         1  \n",
       "Kim         2  \n",
       "Bob         2  "
      ]
     },
     "execution_count": 1,
     "metadata": {},
     "output_type": "execute_result"
    }
   ],
   "source": [
    "import pandas as pd\n",
    "\n",
    "data = pd.read_csv(\"ratings3.csv\")\n",
    "data.index = [\"John\", \"Mary\", \"Lee\", \"Joe\", \"Kim\", \"Bob\"]\n",
    "data"
   ]
  },
  {
   "cell_type": "markdown",
   "metadata": {},
   "source": [
    "**(b)** Write a function named baseline that takes the following as its input arguments:\n",
    "\n",
    "- a user x items ratings matrix (in numpy array format)\n",
    "- a pair of hyperparameters, lambda1 and lambda2\n",
    "- a parameter that governs the maximum number of iterations.\n",
    "\n",
    "The function will compute the baseline model, consisting of 3 parameter values:\n",
    "\n",
    "- a user_weight vector, w_u \n",
    "- an item_weight vector, w_i \n",
    "- the model intercept, mu \n",
    "\n",
    "The function initializes w_u and w_i to be vectors of 0s and then interatively updates the weights along with that for mu using the update formula shown in the lecture notes. To ensure its correctness, the function should display the updated values for w_u, w_i, and mu in each iteration. You will then apply the function to predict the missing values in the input ratings matrix."
   ]
  },
  {
   "cell_type": "code",
   "execution_count": 2,
   "metadata": {},
   "outputs": [],
   "source": [
    "import numpy as np\n",
    "\n",
    "def baseline(matrix, lambda1, lambda2, maxiter):\n",
    "    \n",
    "    # Initialize the model parameters w_u, w_i, and mu\n",
    "    w_u, w_i = [], []\n",
    "    for a in range(0, matrix.shape[0]):\n",
    "        w_u.append(0)\n",
    "        w_i.append(0)\n",
    "        \n",
    "    mu_sum, mu_count = 0, 0\n",
    "    for row in matrix:\n",
    "        for val in row:\n",
    "            if str(val) != 'nan':\n",
    "                mu_sum += int(val)\n",
    "                mu_count += 1\n",
    "                \n",
    "    mu = mu_sum / mu_count\n",
    "    \n",
    "    # Iterates for the specified number of times\n",
    "    for i in range(0,maxiter):\n",
    "        \n",
    "        # Calculates and updates the w_u for each user (row)\n",
    "        for j in range(0,matrix.shape[0]):\n",
    "            row_sum, row_count, w_i_index = 0, 0, 0\n",
    "            for row_val in data.iloc[j]:\n",
    "                if str(row_val) != \"nan\":\n",
    "                    row_sum += (row_val - w_i[w_i_index] - mu)\n",
    "                    row_count += 1\n",
    "                w_i_index += 1\n",
    "            w_u[j] = row_sum / row_count\n",
    "            \n",
    "        # Calculates and updates the w_i for each item (column)\n",
    "        for j in range(0,matrix.shape[1]):\n",
    "            col_sum, col_count, w_u_index = 0, 0, 0\n",
    "            for col_val in data.iloc[:,j]:\n",
    "                if str(col_val) != \"nan\":\n",
    "                    col_sum += (col_val - w_u[w_u_index] - mu)\n",
    "                    col_count += 1\n",
    "                w_u_index += 1\n",
    "            w_i[j] = col_sum / col_count \n",
    "            \n",
    "        # Display the updated model parameters\n",
    "        print('Iteration ', i)\n",
    "        print('   w_u =', w_u)\n",
    "        print('   w_i =', w_i)\n",
    "        print('   mu  =', mu)\n",
    "\n",
    "    return (w_u, w_i, mu)"
   ]
  },
  {
   "cell_type": "code",
   "execution_count": 3,
   "metadata": {
    "scrolled": true
   },
   "outputs": [
    {
     "name": "stdout",
     "output_type": "stream",
     "text": [
      "Iteration  0\n",
      "   w_u = [0.5648148148148149, 1.614814814814815, -0.38518518518518513, -1.585185185185185, 0.06481481481481488, -0.18518518518518512]\n",
      "   w_i = [0.5600000000000002, -0.5333333333333333, 0.6100000000000001, 0.51, -0.8666666666666666, 0]\n",
      "   mu  = 3.185185185185185\n",
      "Iteration  1\n",
      "   w_u = [0.6223148148148147, 1.5588148148148147, -0.4411851851851852, -1.641185185185185, 0.14731481481481484, -0.11518518518518517]\n",
      "   w_i = [0.5656, -0.5403333333333331, 0.6181000000000001, 0.5131, -0.8736666666666665, 0]\n",
      "   mu  = 3.185185185185185\n",
      "Iteration  2\n",
      "   w_u = [0.6223898148148147, 1.558254814814815, -0.4417451851851852, -1.6417451851851852, 0.1486398148148147, -0.1144851851851853]\n",
      "   w_i = [0.5656559999999999, -0.5404033333333332, 0.6182810000000002, 0.5130310000000001, -0.8737366666666665, 0]\n",
      "   mu  = 3.185185185185185\n",
      "Iteration  3\n",
      "   w_u = [0.6223655648148149, 1.5582492148148148, -0.4417507851851852, -1.6417507851851851, 0.14867806481481471, -0.11447818518518538]\n",
      "   w_i = [0.5656565600000001, -0.5404040333333332, 0.6182878100000002, 0.5130253100000002, -0.8737373666666666, 0]\n",
      "   mu  = 3.185185185185185\n",
      "Iteration  4\n",
      "   w_u = [0.6223640723148148, 1.558249158814815, -0.4417508411851851, -1.641750841185185, 0.14867969731481478, -0.11447811518518525]\n",
      "   w_i = [0.5656565656000001, -0.5404040403333334, 0.6182881281, 0.5130250031, -0.8737373736666667, 0]\n",
      "   mu  = 3.185185185185185\n",
      "Predicted rating for John on Harry Potter = 4.32\n",
      "Predicted rating for Kim on Back to the Future = 3.95\n",
      "Predicted rating for Bob on Mission Impossible = 3.64\n"
     ]
    }
   ],
   "source": [
    "# Apply the model to the ratings data. Set lambda1=lambda2=0 and maxiter = 5\n",
    "w_u, w_i, mu = baseline(data.values, 0, 0, 5)\n",
    "\n",
    "# Predicts and updates the ratings for each missing rating\n",
    "predicted = data.values\n",
    "for row in range(0,predicted.shape[0]):\n",
    "    for col in range(0,predicted.shape[1]):\n",
    "        if np.isnan(predicted[row,col]):\n",
    "            predicted[row,col] = round(mu + w_u[row] + w_i[col],2)\n",
    "            \n",
    "print('Predicted rating for John on Harry Potter =',  predicted[0,3])\n",
    "print('Predicted rating for Kim on Back to the Future =', predicted[4,2])\n",
    "print('Predicted rating for Bob on Mission Impossible =', predicted[5,0])"
   ]
  },
  {
   "cell_type": "markdown",
   "metadata": {},
   "source": [
    "**(b)** Write a function named MF that employs the matrix factorization approach to predict the missing values in the ratings matrix. The function takes the following as its input arguments:\n",
    "\n",
    "- an incomplete user x items ratings matrix \n",
    "- the number of latent features, k \n",
    "- the maximum number of iterations, maxiter\n",
    "\n",
    "The function should return a pair of matrices, U and M, where U is the user x latent factor matrix and M is the item x latent factor matrix. First, the function initializes the input matrix such that the missing ratings (NaNs) are replaced by 0. It then initializes the matrices U and M to be all 1s. The function then interatively updates the matrices M and U using the update formula shown in the lecture notes. It will use the estimated U and M matrices to re-compute the missing ratings in the input matrix. You will apply the MF function to predict the missing ratings in the input  matrix, assuming the number of latent factors is equal to 2."
   ]
  },
  {
   "cell_type": "code",
   "execution_count": 4,
   "metadata": {},
   "outputs": [],
   "source": [
    "def MF(matrix, k, maxiter):\n",
    "    \n",
    "    # Initialize the missing ratings in matrix to 0 and stores the indices with nan\n",
    "    nan_indices = []\n",
    "    for row in range(0,matrix.shape[0]):\n",
    "        for col in range(0,matrix.shape[1]):\n",
    "            if np.isnan(matrix[row,col]) == True:\n",
    "                nan_indices.append([row,col])\n",
    "                matrix[row,col] = 0\n",
    "    \n",
    "    # Initialize the matrices U and M to 1s. Size of U is #rows x k, size of M is $columns x k\n",
    "    U = np.ones((matrix.shape[0],k))\n",
    "    M = np.ones((matrix.shape[1],k))\n",
    "\n",
    "    # Iterates the specified number of times\n",
    "    for i in range(maxiter):\n",
    "        \n",
    "        # Update M\n",
    "        mNumerator = np.dot(matrix.T, U)\n",
    "        mDenom = np.dot(np.dot(M, U.T), U)\n",
    "        M = np.multiply(M,np.divide(mNumerator,mDenom))\n",
    "\n",
    "        # Update U\n",
    "        uNumerator = np.dot(matrix, M)\n",
    "        uDenom = np.dot(np.dot(U, M.T), M)\n",
    "        U = np.multiply(U,np.divide(uNumerator,uDenom))\n",
    "\n",
    "        # Update the missing ratings in matrix with the predicted values U x M^T \n",
    "        UM = np.dot(U,M.T)\n",
    "        \n",
    "        # Updates the missing values in the matrix\n",
    "        for index in nan_indices:\n",
    "            matrix[index[0],index[1]] = UM[index[0],index[1]]\n",
    "                \n",
    "    return U, M"
   ]
  },
  {
   "cell_type": "code",
   "execution_count": 5,
   "metadata": {},
   "outputs": [
    {
     "name": "stdout",
     "output_type": "stream",
     "text": [
      "Predicted rating for John on Harry Potter = 4.313339602440373\n",
      "Predicted rating for Kim on Back to the Future = 3.8231074988350353\n",
      "Predicted rating for Bob on Mission Impossible = 3.7047639373213035\n"
     ]
    }
   ],
   "source": [
    "# Apply the model to the ratings data. Set k=2 and maxiter = 500\n",
    "U, M = MF(data.values, 2, 500)\n",
    "\n",
    "# Calculates the UM^T and updates the missing values \n",
    "UM = np.dot(U,M.T)\n",
    "predicted = data.values\n",
    "for row in range(0,predicted.shape[0]):\n",
    "    for col in range(0,predicted.shape[1]):\n",
    "        if np.isnan(predicted[row,col]) == True:\n",
    "            predicted[row,col] = UM[row,col]\n",
    "\n",
    "print('Predicted rating for John on Harry Potter =', predicted[0][3])\n",
    "print('Predicted rating for Kim on Back to the Future =', predicted[4][2])\n",
    "print('Predicted rating for Bob on Mission Impossible =', predicted[5][0])"
   ]
  },
  {
   "cell_type": "markdown",
   "metadata": {},
   "source": [
    "---\n",
    "**3.** Consider the student enrollment database below, which contains the following tables:\n",
    "\n",
    "<img src=\"student.png\">\n",
    "\n",
    "Draw the tables obtained as query result for each SQL statement below. "
   ]
  },
  {
   "cell_type": "markdown",
   "metadata": {},
   "source": [
    "**(a)** \n",
    "\n",
    "    SELECT S.Name\n",
    "\n",
    "    FROM Professor P, Student S, Teaching T, Transcript R\n",
    "\n",
    "    WHERE P.Id = T.ProfId and S.Id = R.StudId and T.CrsCode = R.CrsCode and T.Semester = R.Semester\n",
    "\n",
    "            and P.Name = `Mary Doe';\n",
    "    \n",
    "**Solution:** You can use the template below to display the query result. Make sure you remove the unnecessary rows and columns and rename the column headings.\n",
    "\n",
    "| Name | \n",
    "|:-----------|\n",
    "| Bart Simpson | \n",
    "\n"
   ]
  },
  {
   "cell_type": "markdown",
   "metadata": {},
   "source": [
    "**(b)**\n",
    "\n",
    "    SELECT S.Name, COUNT(T.CrsCode)\n",
    "\n",
    "    FROM Student S, Transcript T  \n",
    "\n",
    "    WHERE S.Id=T.StudId\n",
    "\n",
    "    GROUP BY T.StudId;\n",
    "    \n",
    "**Solution:**\n",
    "\n",
    "| Name | COUNT(T.CrsCode) | ColumnName       \n",
    "|:-----------|:-----------|:------\n",
    "| Homer Simpson | 2 | Value\n",
    "| John Dow | 3 | Value\n",
    "| Joe Blow | 3 | Value\n",
    "| Joseph Public | 3 | Value\n",
    "| Bart Simpson | 2 | Value\n"
   ]
  },
  {
   "cell_type": "markdown",
   "metadata": {},
   "source": [
    "**(c)**\n",
    "\n",
    "    SELECT DISTINCT C.CrsName, T1.Semester\n",
    "\n",
    "    FROM Teaching T1, Teaching T2, Course C\n",
    "\n",
    "    WHERE T1.ProfId <> T2.ProfId AND T1.CrsCode = T2.CrsCode\n",
    "\n",
    "            AND T1.CrsCode = C.CrsCode AND T1.Semester = T2.Semester;\n",
    "    \n",
    "**Solution:**\n",
    "\n",
    "| CrsName | Semester | ColumnName       \n",
    "|:-----------|:-----------|:------\n",
    "| Market Analysis | F1994 | Value\n",
    "| Market Analysis | F1997 | Value\n",
    "| Value | Value | Value\n",
    "| Value | Value | Value\n",
    "| Value | Value | Value\n"
   ]
  },
  {
   "cell_type": "markdown",
   "metadata": {},
   "source": [
    "**(d)**\n",
    "\n",
    "    SELECT DISTINCT S.Name\n",
    "\n",
    "    FROM Student S\n",
    "\n",
    "    WHERE EXISTS (SELECT * FROM Transcript T \n",
    "    \n",
    "                  WHERE S.Id = T.StudId AND T.CrsCode LIKE '%CS%');\n",
    "                  \n",
    "**Solution:**\n",
    "\n",
    "| Name | ColumnName | ColumnName       \n",
    "|:-----------|:-----------|:------\n",
    "| Bart Simpson | Value | Value\n",
    "| Joe Blow | Value | Value\n",
    "| Homer Simpson | Value | Value\n",
    "| Value | Value | Value\n",
    "| Value | Value | Value\n"
   ]
  },
  {
   "cell_type": "markdown",
   "metadata": {},
   "source": [
    "---\n",
    "**4.**  Consider the following schema for an electronic health record database for a healthcare provider. Primary and foreign key constraints are also listed for each table (if available).\n",
    "\n",
    "    Patient(ID, Name)   Primary key = ID\n",
    "\n",
    "    Physician(ID, Name, Specialty)   Primary key = ID\n",
    "    \n",
    "    Insurance(PolicyNo, PatientID, Company)   Primary key = PolicyNo\n",
    "        Insurance(PatientID) references Patient(ID)\n",
    "\n",
    "    Visit(ID, PatientID, PhysicianID, ReasonForVisit)   \n",
    "    \n",
    "        Primary key = ID\n",
    "\n",
    "        Visit(PatientID) references Patient(ID)\n",
    "\n",
    "        Visit(PhysicianID) references Physician(ID)\n",
    "\n",
    "Assume that some patients can be in the Patient table but not in the Visit table if he/she has not visited the provider (e.g., a newly registered patient). You can also assume that only patients with insurance are recorded in the Insurance table.\n",
    "\n",
    "Express each of the following query in SQL."
   ]
  },
  {
   "cell_type": "markdown",
   "metadata": {},
   "source": [
    "**(a)** Find the names of Physicians who have treated the patient John Doe during one of his visits to the provider. \n",
    "\n",
    "**Solution:**\n",
    "SELECT D.Name\n",
    "FROM Patient P, Physician D, Visit V\n",
    "WHERE P.Name = \"John Doe\" AND P.ID = V.PatientID AND D.ID = V.PhysicianID"
   ]
  },
  {
   "cell_type": "markdown",
   "metadata": {},
   "source": [
    "**(b)** Find the unique IDs and names of patients who visited the healthcare provider and have insurance. \n",
    "\n",
    "**Solution:** \n",
    "\n",
    "SELECT DISTINCT P.ID, P.Name\n",
    "FROM Patient P, Insurance I, Visit V\n",
    "WHERE P.ID = I.PatientID AND P.ID = V.PatientID\n"
   ]
  },
  {
   "cell_type": "markdown",
   "metadata": {},
   "source": [
    "**(c)** Find the unique IDs and names of patients who visited the healthcare provider but have no insurance. \n",
    "\n",
    "**Solution:** \n",
    "SELECT DISTINCT P.ID, P.Name\n",
    "FROM Patient P, Insurance I, Visit V\n",
    "WHERE P.ID = V.PatientID AND NOT EXIST(SELECT * FROM I WHERE P.ID = I.PATIENTID)"
   ]
  },
  {
   "cell_type": "markdown",
   "metadata": {},
   "source": [
    "**(d)** Find the IDs and names of patients who ahve been treated by more than one physicians.\n",
    "\n",
    "**Solution:** \n",
    "SELECT P.ID, P.Name\n",
    "FROM Paitent P, Visit V1, Visit V2\n",
    "WHERE V1.PhysicianID != V2.PhysicianID AND V1.PatientID = V2.PatientID AND P.ID = V1.PatientID;"
   ]
  },
  {
   "cell_type": "markdown",
   "metadata": {},
   "source": [
    "**(e)** For each physician, count the distinct number of patients they have treated (i.e., met during one of the patients' visits). The query result should contain the physician ID, name, and number of treated patients.\n",
    "\n",
    "**Solution:**\n",
    "SELECT D.ID, D.Name, COUNT(DISTINCT V.PatientID)\n",
    "FROM Physician D, Visit V\n",
    "WHERE D.ID = V.PhysicianID\n",
    "GROUP BY D.ID"
   ]
  },
  {
   "cell_type": "markdown",
   "metadata": {},
   "source": [
    "**5.** Consider the following schema for a bike sharing database:\n",
    "\n",
    "     Customer(ID, Name, Address)    PRIMARY KEY = ID\n",
    "     \n",
    "     Bike(ID, Type)     PRIMARY KEY = ID\n",
    "     \n",
    "     Rental(CustomerID, BikeID, CheckoutDate, ReturnDate)\n",
    "     \n",
    "         PRIMARY KEY = (CustomerID, BikeID, CheckoutDate)\n",
    "\n",
    "         Rental(CustomerID) REFERENCES Customer(ID)\n",
    "         \n",
    "         Rental(BikeID) REFERENCES Bike(ID)\n",
    "         \n",
    "Assume the number of rows in each table are as follows: Customer (1000 rows), Bike (500 rows), and Rental (10000 rows). For each SQL query below, list the attribute names and state the minimum and maximum number of possible rows in the query result. If the query result returns two attributes with the same name, make sure you indicate the name of the table from which the column is obtained, e.g., Customer.ID or Bike.ID."
   ]
  },
  {
   "cell_type": "markdown",
   "metadata": {
    "collapsed": true
   },
   "source": [
    "**(a)** \n",
    "\n",
    "        SELECT *\n",
    "\n",
    "        FROM Customer C, Rental R;\n",
    "        \n",
    "        WHERE C.ID = R.CustomerID AND C.Name = 'John Doe';\n",
    "\n",
    "**Solution:**\n",
    "\n",
    "Attributes: C.ID, Name, Address, CustomerID, BikeID, CheckoutDate, ReturnDate\n",
    "\n",
    "Number of rows:  Minimum = 0   Maximum = 10,000"
   ]
  },
  {
   "cell_type": "markdown",
   "metadata": {
    "collapsed": true
   },
   "source": [
    "**(b)** \n",
    "\n",
    "        SELECT C.Name, B.Type\n",
    "        \n",
    "        FROM Customer C, Bike B, Rental R\n",
    "        \n",
    "        WHERE C.ID = R.CustomerID AND B.ID = R.BikeID;\n",
    "\n",
    "\n",
    "**Solution:**\n",
    "\n",
    "Attributes: C.Name, B.Type\n",
    "\n",
    "Number of rows: Minimum = 10,000     Maximum = 10,000"
   ]
  },
  {
   "cell_type": "markdown",
   "metadata": {},
   "source": [
    "**(c)** \n",
    "\n",
    "        SELECT DISTINCT B.ID, B.Type\n",
    "        \n",
    "        FROM Bike B, Rental R\n",
    "        \n",
    "        WHERE B.ID = R.BikeID;\n",
    "\n",
    "\n",
    "**Solution:**\n",
    "\n",
    "Attributes: B.ID, B.Type\n",
    "\n",
    "Number of rows:  Minimum = 1   Maximum = 500\n"
   ]
  },
  {
   "cell_type": "markdown",
   "metadata": {},
   "source": [
    "**(d)** \n",
    "\n",
    "        SELECT *\n",
    "\n",
    "        FROM Customer, Bike;\n",
    "\n",
    "**Solution:**\n",
    "\n",
    "Attributes: Customer.ID, Name, Address, Bike.ID, Type\n",
    "\n",
    "Number of rows:  Minimum = 500,000   Maximum = 500,000       "
   ]
  },
  {
   "cell_type": "markdown",
   "metadata": {},
   "source": [
    "**(e)**  Assuming there are 3 types of bicycles in the database:\n",
    "\n",
    "        SELECT C.ID, B.Type, COUNT(*) AS Num\n",
    "\n",
    "        FROM Customer C, Bike B, Rental R\n",
    "        \n",
    "        WHERE C.ID = R.CustomerID AND B.ID = R.BikeID\n",
    "        \n",
    "        GROUP BY C.ID, B.Type\n",
    "\n",
    "**Solution:**\n",
    "\n",
    "Attributes: C.ID, B.Type, Num \n",
    "\n",
    "Number of rows:  Minimum = 1   Maximum = 3,000"
   ]
  }
 ],
 "metadata": {
  "kernelspec": {
   "display_name": "Python 3",
   "language": "python",
   "name": "python3"
  },
  "language_info": {
   "codemirror_mode": {
    "name": "ipython",
    "version": 3
   },
   "file_extension": ".py",
   "mimetype": "text/x-python",
   "name": "python",
   "nbconvert_exporter": "python",
   "pygments_lexer": "ipython3",
   "version": "3.7.6"
  }
 },
 "nbformat": 4,
 "nbformat_minor": 2
}
